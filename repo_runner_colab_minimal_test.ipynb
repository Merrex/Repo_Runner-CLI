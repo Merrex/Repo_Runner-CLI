{
    "cells": [
     {
      "cell_type": "markdown",
      "metadata": {},
      "source": [
       "# Minimal Agentic Repo Runner Test\n",
       "Test any codebase with a single click."
      ]
     },
     {
      "cell_type": "code",
      "metadata": {},
      "source": [
       "# 1. Install repo_runner (latest from GitHub)\n",
       "!pip install --quiet git+https://github.com/Merrex/Repo_Runner-CLI.git\n"
      ]
     },
     {
      "cell_type": "code",
      "metadata": {},
      "source": [
       "# 2. Upload and extract your test repository\n",
       "from google.colab import files\n",
       "import zipfile, os\n",
       "\n",
       "uploaded = files.upload()\n",
       "test_repo_path = '/content/test_repo'\n",
       "for filename in uploaded:\n",
       "    if filename.endswith('.zip'):\n",
       "        with zipfile.ZipFile(filename, 'r') as zip_ref:\n",
       "            zip_ref.extractall(test_repo_path)\n",
       "        break\n",
       "\n",
       "# 3. Find the actual repo root (where key files are)\n",
       "def find_repo_root(base_path):\n",
       "    key_files = ['package.json', 'requirements.txt', 'docker-compose.yml', 'main.py', 'app.py', 'index.js', 'App.jsx']\n",
       "    for file in key_files:\n",
       "        if os.path.exists(os.path.join(base_path, file)):\n",
       "            return base_path\n",
       "    for root, dirs, files in os.walk(base_path):\n",
       "        for file in key_files:\n",
       "            if file in files:\n",
       "                return root\n",
       "    return base_path\n",
       "\n",
       "actual_repo_path = find_repo_root(test_repo_path)\n",
       "print(f'\nRepo root: {actual_repo_path}')\n"
      ]
     },
     {
      "cell_type": "code",
      "metadata": {},
      "source": [
       "# 4. Run repo_runner fully agentically\n",
       "import subprocess\n",
       "result = subprocess.run(['repo_runner', 'run', actual_repo_path, '--mode', 'local'], capture_output=True, text=True)\n",
       "print('Exit code:', result.returncode)\n",
       "print('--- STDOUT ---')\n",
       "print(result.stdout[-2000:])  # Show last 2000 chars\n",
       "print('--- STDERR ---')\n",
       "print(result.stderr[-2000:])  # Show last 2000 chars\n"
      ]
     }
    ],
    "metadata": {
     "kernelspec": {
      "display_name": "Python 3",
      "language": "python",
      "name": "python3"
     },
     "language_info": {
      "name": "python",
      "version": "3.8"
     }
    },
    "nbformat": 4,
    "nbformat_minor": 0
   }
   